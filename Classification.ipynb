{
  "nbformat": 4,
  "nbformat_minor": 0,
  "metadata": {
    "colab": {
      "name": "Classification.ipynb",
      "provenance": []
    },
    "kernelspec": {
      "name": "python3",
      "display_name": "Python 3"
    }
  },
  "cells": [
    {
      "cell_type": "code",
      "metadata": {
        "id": "2bophHYVyxWs",
        "colab_type": "code",
        "colab": {}
      },
      "source": [
        "%tensorflow_version 2.x"
      ],
      "execution_count": 0,
      "outputs": []
    },
    {
      "cell_type": "code",
      "metadata": {
        "id": "q1lUSpPfzT9y",
        "colab_type": "code",
        "colab": {}
      },
      "source": [
        "from __future__ import absolute_import, division, print_function, unicode_literals\n",
        "\n",
        "\n",
        "import tensorflow as tf\n",
        "\n",
        "import pandas as pd"
      ],
      "execution_count": 0,
      "outputs": []
    },
    {
      "cell_type": "code",
      "metadata": {
        "id": "hOnUfqfq0Xpw",
        "colab_type": "code",
        "colab": {}
      },
      "source": [
        "CSV_COLUMN_NAMES = ['SepalLength', 'SepalWidth', 'PetalLength', 'PetalWidth', 'Species']\n",
        "SPECIES = ['Setosa', 'Versicolor', 'Virginica']\n",
        "# Lets define some constants to help us later on"
      ],
      "execution_count": 0,
      "outputs": []
    },
    {
      "cell_type": "code",
      "metadata": {
        "id": "ktEALRhO0Yfi",
        "colab_type": "code",
        "colab": {}
      },
      "source": [
        "train_path = tf.keras.utils.get_file(\n",
        "    \"iris_training.csv\", \"https://storage.googleapis.com/download.tensorflow.org/data/iris_training.csv\")\n",
        "test_path = tf.keras.utils.get_file(\n",
        "    \"iris_test.csv\", \"https://storage.googleapis.com/download.tensorflow.org/data/iris_test.csv\")\n",
        "\n",
        "train = pd.read_csv(train_path, names=CSV_COLUMN_NAMES, header=0)\n",
        "test = pd.read_csv(test_path, names=CSV_COLUMN_NAMES, header=0)\n",
        "# Here we use keras (a module inside of TensorFlow) to grab our datasets and read them into a pandas dataframe"
      ],
      "execution_count": 0,
      "outputs": []
    },
    {
      "cell_type": "code",
      "metadata": {
        "id": "R2Uc8oMR0bPY",
        "colab_type": "code",
        "outputId": "885fbe9a-5121-41cc-f189-20ecec0854fa",
        "colab": {
          "base_uri": "https://localhost:8080/",
          "height": 195
        }
      },
      "source": [
        "train.head()"
      ],
      "execution_count": 5,
      "outputs": [
        {
          "output_type": "execute_result",
          "data": {
            "text/html": [
              "<div>\n",
              "<style scoped>\n",
              "    .dataframe tbody tr th:only-of-type {\n",
              "        vertical-align: middle;\n",
              "    }\n",
              "\n",
              "    .dataframe tbody tr th {\n",
              "        vertical-align: top;\n",
              "    }\n",
              "\n",
              "    .dataframe thead th {\n",
              "        text-align: right;\n",
              "    }\n",
              "</style>\n",
              "<table border=\"1\" class=\"dataframe\">\n",
              "  <thead>\n",
              "    <tr style=\"text-align: right;\">\n",
              "      <th></th>\n",
              "      <th>SepalLength</th>\n",
              "      <th>SepalWidth</th>\n",
              "      <th>PetalLength</th>\n",
              "      <th>PetalWidth</th>\n",
              "      <th>Species</th>\n",
              "    </tr>\n",
              "  </thead>\n",
              "  <tbody>\n",
              "    <tr>\n",
              "      <th>0</th>\n",
              "      <td>6.4</td>\n",
              "      <td>2.8</td>\n",
              "      <td>5.6</td>\n",
              "      <td>2.2</td>\n",
              "      <td>2</td>\n",
              "    </tr>\n",
              "    <tr>\n",
              "      <th>1</th>\n",
              "      <td>5.0</td>\n",
              "      <td>2.3</td>\n",
              "      <td>3.3</td>\n",
              "      <td>1.0</td>\n",
              "      <td>1</td>\n",
              "    </tr>\n",
              "    <tr>\n",
              "      <th>2</th>\n",
              "      <td>4.9</td>\n",
              "      <td>2.5</td>\n",
              "      <td>4.5</td>\n",
              "      <td>1.7</td>\n",
              "      <td>2</td>\n",
              "    </tr>\n",
              "    <tr>\n",
              "      <th>3</th>\n",
              "      <td>4.9</td>\n",
              "      <td>3.1</td>\n",
              "      <td>1.5</td>\n",
              "      <td>0.1</td>\n",
              "      <td>0</td>\n",
              "    </tr>\n",
              "    <tr>\n",
              "      <th>4</th>\n",
              "      <td>5.7</td>\n",
              "      <td>3.8</td>\n",
              "      <td>1.7</td>\n",
              "      <td>0.3</td>\n",
              "      <td>0</td>\n",
              "    </tr>\n",
              "  </tbody>\n",
              "</table>\n",
              "</div>"
            ],
            "text/plain": [
              "   SepalLength  SepalWidth  PetalLength  PetalWidth  Species\n",
              "0          6.4         2.8          5.6         2.2        2\n",
              "1          5.0         2.3          3.3         1.0        1\n",
              "2          4.9         2.5          4.5         1.7        2\n",
              "3          4.9         3.1          1.5         0.1        0\n",
              "4          5.7         3.8          1.7         0.3        0"
            ]
          },
          "metadata": {
            "tags": []
          },
          "execution_count": 5
        }
      ]
    },
    {
      "cell_type": "code",
      "metadata": {
        "id": "_VycfOep1cAo",
        "colab_type": "code",
        "outputId": "3e858d2a-5523-4a08-cd09-2df2360bfc33",
        "colab": {
          "base_uri": "https://localhost:8080/",
          "height": 195
        }
      },
      "source": [
        "train_y = train.pop('Species')\n",
        "test_y = test.pop('Species')\n",
        "train.head() # the species column is now gone"
      ],
      "execution_count": 6,
      "outputs": [
        {
          "output_type": "execute_result",
          "data": {
            "text/html": [
              "<div>\n",
              "<style scoped>\n",
              "    .dataframe tbody tr th:only-of-type {\n",
              "        vertical-align: middle;\n",
              "    }\n",
              "\n",
              "    .dataframe tbody tr th {\n",
              "        vertical-align: top;\n",
              "    }\n",
              "\n",
              "    .dataframe thead th {\n",
              "        text-align: right;\n",
              "    }\n",
              "</style>\n",
              "<table border=\"1\" class=\"dataframe\">\n",
              "  <thead>\n",
              "    <tr style=\"text-align: right;\">\n",
              "      <th></th>\n",
              "      <th>SepalLength</th>\n",
              "      <th>SepalWidth</th>\n",
              "      <th>PetalLength</th>\n",
              "      <th>PetalWidth</th>\n",
              "    </tr>\n",
              "  </thead>\n",
              "  <tbody>\n",
              "    <tr>\n",
              "      <th>0</th>\n",
              "      <td>6.4</td>\n",
              "      <td>2.8</td>\n",
              "      <td>5.6</td>\n",
              "      <td>2.2</td>\n",
              "    </tr>\n",
              "    <tr>\n",
              "      <th>1</th>\n",
              "      <td>5.0</td>\n",
              "      <td>2.3</td>\n",
              "      <td>3.3</td>\n",
              "      <td>1.0</td>\n",
              "    </tr>\n",
              "    <tr>\n",
              "      <th>2</th>\n",
              "      <td>4.9</td>\n",
              "      <td>2.5</td>\n",
              "      <td>4.5</td>\n",
              "      <td>1.7</td>\n",
              "    </tr>\n",
              "    <tr>\n",
              "      <th>3</th>\n",
              "      <td>4.9</td>\n",
              "      <td>3.1</td>\n",
              "      <td>1.5</td>\n",
              "      <td>0.1</td>\n",
              "    </tr>\n",
              "    <tr>\n",
              "      <th>4</th>\n",
              "      <td>5.7</td>\n",
              "      <td>3.8</td>\n",
              "      <td>1.7</td>\n",
              "      <td>0.3</td>\n",
              "    </tr>\n",
              "  </tbody>\n",
              "</table>\n",
              "</div>"
            ],
            "text/plain": [
              "   SepalLength  SepalWidth  PetalLength  PetalWidth\n",
              "0          6.4         2.8          5.6         2.2\n",
              "1          5.0         2.3          3.3         1.0\n",
              "2          4.9         2.5          4.5         1.7\n",
              "3          4.9         3.1          1.5         0.1\n",
              "4          5.7         3.8          1.7         0.3"
            ]
          },
          "metadata": {
            "tags": []
          },
          "execution_count": 6
        }
      ]
    },
    {
      "cell_type": "code",
      "metadata": {
        "id": "SCyGzYEf1c4Z",
        "colab_type": "code",
        "outputId": "6fad92e5-ec69-4210-807a-a06f1a08dc82",
        "colab": {
          "base_uri": "https://localhost:8080/",
          "height": 34
        }
      },
      "source": [
        "train.shape  # we have 120 entires with 4 features"
      ],
      "execution_count": 7,
      "outputs": [
        {
          "output_type": "execute_result",
          "data": {
            "text/plain": [
              "(120, 4)"
            ]
          },
          "metadata": {
            "tags": []
          },
          "execution_count": 7
        }
      ]
    },
    {
      "cell_type": "code",
      "metadata": {
        "id": "gi2vYHYp1gEA",
        "colab_type": "code",
        "outputId": "9107c399-1b9a-4f0b-a04f-4ff3718588cd",
        "colab": {
          "base_uri": "https://localhost:8080/",
          "height": 118
        }
      },
      "source": [
        "train_y.head()"
      ],
      "execution_count": 8,
      "outputs": [
        {
          "output_type": "execute_result",
          "data": {
            "text/plain": [
              "0    2\n",
              "1    1\n",
              "2    2\n",
              "3    0\n",
              "4    0\n",
              "Name: Species, dtype: int64"
            ]
          },
          "metadata": {
            "tags": []
          },
          "execution_count": 8
        }
      ]
    },
    {
      "cell_type": "code",
      "metadata": {
        "id": "xHclm3qJ5Mb1",
        "colab_type": "code",
        "colab": {}
      },
      "source": [
        "def input_fn(features, labels, training=True, batch_size=256):\n",
        "    # Convert the inputs to a Dataset.\n",
        "    dataset = tf.data.Dataset.from_tensor_slices((dict(features), labels))\n",
        "\n",
        "    # Shuffle and repeat if you are in training mode.\n",
        "    if training:\n",
        "        dataset = dataset.shuffle(1000).repeat()\n",
        "    \n",
        "    return dataset.batch(batch_size)\n"
      ],
      "execution_count": 0,
      "outputs": []
    },
    {
      "cell_type": "code",
      "metadata": {
        "id": "1agz0Csu5VdP",
        "colab_type": "code",
        "outputId": "44136d7f-a9c5-4407-d428-a89adc1bd8a1",
        "colab": {
          "base_uri": "https://localhost:8080/",
          "height": 54
        }
      },
      "source": [
        "# Feature columns describe how to use the input.\n",
        "my_feature_columns = []\n",
        "for key in train.keys():\n",
        "    my_feature_columns.append(tf.feature_column.numeric_column(key=key))\n",
        "print(my_feature_columns)"
      ],
      "execution_count": 10,
      "outputs": [
        {
          "output_type": "stream",
          "text": [
            "[NumericColumn(key='SepalLength', shape=(1,), default_value=None, dtype=tf.float32, normalizer_fn=None), NumericColumn(key='SepalWidth', shape=(1,), default_value=None, dtype=tf.float32, normalizer_fn=None), NumericColumn(key='PetalLength', shape=(1,), default_value=None, dtype=tf.float32, normalizer_fn=None), NumericColumn(key='PetalWidth', shape=(1,), default_value=None, dtype=tf.float32, normalizer_fn=None)]\n"
          ],
          "name": "stdout"
        }
      ]
    },
    {
      "cell_type": "code",
      "metadata": {
        "id": "r-6G_OSB7gcZ",
        "colab_type": "code",
        "outputId": "bff786af-8992-4010-e37d-f779513037d1",
        "colab": {
          "base_uri": "https://localhost:8080/",
          "height": 188
        }
      },
      "source": [
        "# Build a DNN with 2 hidden layers with 30 and 10 hidden nodes each.\n",
        "classifier = tf.estimator.DNNClassifier(\n",
        "    feature_columns=my_feature_columns,\n",
        "    # Two hidden layers of 30 and 10 nodes respectively.\n",
        "    hidden_units=[30, 10],\n",
        "    # The model must choose between 3 classes.\n",
        "    n_classes=3)"
      ],
      "execution_count": 11,
      "outputs": [
        {
          "output_type": "stream",
          "text": [
            "INFO:tensorflow:Using default config.\n",
            "WARNING:tensorflow:Using temporary folder as model directory: /tmp/tmplabwupls\n",
            "INFO:tensorflow:Using config: {'_model_dir': '/tmp/tmplabwupls', '_tf_random_seed': None, '_save_summary_steps': 100, '_save_checkpoints_steps': None, '_save_checkpoints_secs': 600, '_session_config': allow_soft_placement: true\n",
            "graph_options {\n",
            "  rewrite_options {\n",
            "    meta_optimizer_iterations: ONE\n",
            "  }\n",
            "}\n",
            ", '_keep_checkpoint_max': 5, '_keep_checkpoint_every_n_hours': 10000, '_log_step_count_steps': 100, '_train_distribute': None, '_device_fn': None, '_protocol': None, '_eval_distribute': None, '_experimental_distribute': None, '_experimental_max_worker_delay_secs': None, '_session_creation_timeout_secs': 7200, '_service': None, '_cluster_spec': ClusterSpec({}), '_task_type': 'worker', '_task_id': 0, '_global_id_in_cluster': 0, '_master': '', '_evaluation_master': '', '_is_chief': True, '_num_ps_replicas': 0, '_num_worker_replicas': 1}\n"
          ],
          "name": "stdout"
        }
      ]
    },
    {
      "cell_type": "code",
      "metadata": {
        "id": "mYEYH6w0-2wc",
        "colab_type": "code",
        "outputId": "1a6a9203-e1f3-4cc9-c021-9bcd78eb42c2",
        "colab": {
          "base_uri": "https://localhost:8080/",
          "height": 1000
        }
      },
      "source": [
        "classifier.train(\n",
        "    input_fn=lambda: input_fn(train, train_y, training=True),\n",
        "    steps=8000)\n",
        "# We include a lambda to avoid creating an inner function previously"
      ],
      "execution_count": 12,
      "outputs": [
        {
          "output_type": "stream",
          "text": [
            "WARNING:tensorflow:From /usr/local/lib/python3.6/dist-packages/tensorflow/python/ops/resource_variable_ops.py:1666: calling BaseResourceVariable.__init__ (from tensorflow.python.ops.resource_variable_ops) with constraint is deprecated and will be removed in a future version.\n",
            "Instructions for updating:\n",
            "If using Keras pass *_constraint arguments to layers.\n",
            "WARNING:tensorflow:From /usr/local/lib/python3.6/dist-packages/tensorflow/python/training/training_util.py:236: Variable.initialized_value (from tensorflow.python.ops.variables) is deprecated and will be removed in a future version.\n",
            "Instructions for updating:\n",
            "Use Variable.read_value. Variables in 2.X are initialized automatically both in eager and graph (inside tf.defun) contexts.\n",
            "INFO:tensorflow:Calling model_fn.\n",
            "WARNING:tensorflow:Layer dnn is casting an input tensor from dtype float64 to the layer's dtype of float32, which is new behavior in TensorFlow 2.  The layer has dtype float32 because it's dtype defaults to floatx.\n",
            "\n",
            "If you intended to run this layer in float32, you can safely ignore this warning. If in doubt, this warning is likely only an issue if you are porting a TensorFlow 1.X model to TensorFlow 2.\n",
            "\n",
            "To change all layers to have dtype float64 by default, call `tf.keras.backend.set_floatx('float64')`. To change just this layer, pass dtype='float64' to the layer constructor. If you are the author of this layer, you can disable autocasting by passing autocast=False to the base Layer constructor.\n",
            "\n",
            "WARNING:tensorflow:From /usr/local/lib/python3.6/dist-packages/tensorflow/python/keras/optimizer_v2/adagrad.py:106: calling Constant.__init__ (from tensorflow.python.ops.init_ops) with dtype is deprecated and will be removed in a future version.\n",
            "Instructions for updating:\n",
            "Call initializer instance with the dtype argument instead of passing it to the constructor\n",
            "INFO:tensorflow:Done calling model_fn.\n",
            "INFO:tensorflow:Create CheckpointSaverHook.\n",
            "INFO:tensorflow:Graph was finalized.\n",
            "INFO:tensorflow:Running local_init_op.\n",
            "INFO:tensorflow:Done running local_init_op.\n",
            "INFO:tensorflow:Calling checkpoint listeners before saving checkpoint 0...\n",
            "INFO:tensorflow:Saving checkpoints for 0 into /tmp/tmplabwupls/model.ckpt.\n",
            "INFO:tensorflow:Calling checkpoint listeners after saving checkpoint 0...\n",
            "INFO:tensorflow:loss = 1.9980941, step = 0\n",
            "INFO:tensorflow:global_step/sec: 474.286\n",
            "INFO:tensorflow:loss = 1.2103513, step = 100 (0.215 sec)\n",
            "INFO:tensorflow:global_step/sec: 643.295\n",
            "INFO:tensorflow:loss = 0.98336375, step = 200 (0.155 sec)\n",
            "INFO:tensorflow:global_step/sec: 668.515\n",
            "INFO:tensorflow:loss = 0.90453976, step = 300 (0.150 sec)\n",
            "INFO:tensorflow:global_step/sec: 642.215\n",
            "INFO:tensorflow:loss = 0.8509173, step = 400 (0.153 sec)\n",
            "INFO:tensorflow:global_step/sec: 655.882\n",
            "INFO:tensorflow:loss = 0.79947966, step = 500 (0.152 sec)\n",
            "INFO:tensorflow:global_step/sec: 676.566\n",
            "INFO:tensorflow:loss = 0.7799956, step = 600 (0.148 sec)\n",
            "WARNING:tensorflow:It seems that global step (tf.train.get_global_step) has not been increased. Current value (could be stable): 604 vs previous value: 604. You could increase the global step by passing tf.train.get_global_step() to Optimizer.apply_gradients or Optimizer.minimize.\n",
            "INFO:tensorflow:global_step/sec: 608.36\n",
            "INFO:tensorflow:loss = 0.7531637, step = 700 (0.166 sec)\n",
            "INFO:tensorflow:global_step/sec: 633.115\n",
            "INFO:tensorflow:loss = 0.73909485, step = 800 (0.156 sec)\n",
            "INFO:tensorflow:global_step/sec: 660.902\n",
            "INFO:tensorflow:loss = 0.7118342, step = 900 (0.154 sec)\n",
            "INFO:tensorflow:global_step/sec: 664.823\n",
            "INFO:tensorflow:loss = 0.69897336, step = 1000 (0.151 sec)\n",
            "INFO:tensorflow:global_step/sec: 657.882\n",
            "INFO:tensorflow:loss = 0.6832925, step = 1100 (0.150 sec)\n",
            "INFO:tensorflow:global_step/sec: 658.03\n",
            "INFO:tensorflow:loss = 0.6752457, step = 1200 (0.152 sec)\n",
            "INFO:tensorflow:global_step/sec: 695.362\n",
            "INFO:tensorflow:loss = 0.6595293, step = 1300 (0.146 sec)\n",
            "INFO:tensorflow:global_step/sec: 687.572\n",
            "INFO:tensorflow:loss = 0.64012355, step = 1400 (0.143 sec)\n",
            "INFO:tensorflow:global_step/sec: 653.154\n",
            "INFO:tensorflow:loss = 0.6398923, step = 1500 (0.153 sec)\n",
            "INFO:tensorflow:global_step/sec: 692.938\n",
            "INFO:tensorflow:loss = 0.6393347, step = 1600 (0.146 sec)\n",
            "INFO:tensorflow:global_step/sec: 689.895\n",
            "INFO:tensorflow:loss = 0.622405, step = 1700 (0.145 sec)\n",
            "INFO:tensorflow:global_step/sec: 658.938\n",
            "INFO:tensorflow:loss = 0.607201, step = 1800 (0.152 sec)\n",
            "INFO:tensorflow:global_step/sec: 673.566\n",
            "INFO:tensorflow:loss = 0.61116225, step = 1900 (0.148 sec)\n",
            "INFO:tensorflow:global_step/sec: 630.095\n",
            "INFO:tensorflow:loss = 0.59581584, step = 2000 (0.159 sec)\n",
            "INFO:tensorflow:global_step/sec: 674.28\n",
            "INFO:tensorflow:loss = 0.5848441, step = 2100 (0.148 sec)\n",
            "INFO:tensorflow:global_step/sec: 671.259\n",
            "INFO:tensorflow:loss = 0.5812367, step = 2200 (0.149 sec)\n",
            "INFO:tensorflow:global_step/sec: 670.944\n",
            "INFO:tensorflow:loss = 0.5732118, step = 2300 (0.147 sec)\n",
            "INFO:tensorflow:global_step/sec: 686.937\n",
            "INFO:tensorflow:loss = 0.57083666, step = 2400 (0.146 sec)\n",
            "INFO:tensorflow:global_step/sec: 600.668\n",
            "INFO:tensorflow:loss = 0.558952, step = 2500 (0.167 sec)\n",
            "INFO:tensorflow:global_step/sec: 686.979\n",
            "INFO:tensorflow:loss = 0.5578618, step = 2600 (0.145 sec)\n",
            "INFO:tensorflow:global_step/sec: 682.737\n",
            "INFO:tensorflow:loss = 0.55543065, step = 2700 (0.149 sec)\n",
            "INFO:tensorflow:global_step/sec: 641.573\n",
            "INFO:tensorflow:loss = 0.54188067, step = 2800 (0.153 sec)\n",
            "INFO:tensorflow:global_step/sec: 688.403\n",
            "INFO:tensorflow:loss = 0.5392137, step = 2900 (0.147 sec)\n",
            "INFO:tensorflow:global_step/sec: 683.929\n",
            "INFO:tensorflow:loss = 0.5429065, step = 3000 (0.144 sec)\n",
            "INFO:tensorflow:global_step/sec: 641.139\n",
            "INFO:tensorflow:loss = 0.5258479, step = 3100 (0.158 sec)\n",
            "INFO:tensorflow:global_step/sec: 668.536\n",
            "INFO:tensorflow:loss = 0.52675784, step = 3200 (0.150 sec)\n",
            "INFO:tensorflow:global_step/sec: 650.939\n",
            "INFO:tensorflow:loss = 0.52123, step = 3300 (0.154 sec)\n",
            "INFO:tensorflow:global_step/sec: 621.861\n",
            "INFO:tensorflow:loss = 0.5133405, step = 3400 (0.159 sec)\n",
            "INFO:tensorflow:global_step/sec: 652.856\n",
            "INFO:tensorflow:loss = 0.5111834, step = 3500 (0.155 sec)\n",
            "INFO:tensorflow:global_step/sec: 685.258\n",
            "INFO:tensorflow:loss = 0.5058826, step = 3600 (0.146 sec)\n",
            "INFO:tensorflow:global_step/sec: 631.012\n",
            "INFO:tensorflow:loss = 0.49904266, step = 3700 (0.158 sec)\n",
            "INFO:tensorflow:global_step/sec: 679.68\n",
            "INFO:tensorflow:loss = 0.5059054, step = 3800 (0.147 sec)\n",
            "INFO:tensorflow:global_step/sec: 664.2\n",
            "INFO:tensorflow:loss = 0.49642798, step = 3900 (0.151 sec)\n",
            "INFO:tensorflow:global_step/sec: 683.1\n",
            "INFO:tensorflow:loss = 0.4842839, step = 4000 (0.144 sec)\n",
            "INFO:tensorflow:global_step/sec: 693.222\n",
            "INFO:tensorflow:loss = 0.48212546, step = 4100 (0.144 sec)\n",
            "INFO:tensorflow:global_step/sec: 649.569\n",
            "INFO:tensorflow:loss = 0.48565796, step = 4200 (0.156 sec)\n",
            "INFO:tensorflow:global_step/sec: 688.517\n",
            "INFO:tensorflow:loss = 0.48866206, step = 4300 (0.143 sec)\n",
            "INFO:tensorflow:global_step/sec: 667.287\n",
            "INFO:tensorflow:loss = 0.48716146, step = 4400 (0.150 sec)\n",
            "INFO:tensorflow:global_step/sec: 673.73\n",
            "INFO:tensorflow:loss = 0.47759515, step = 4500 (0.151 sec)\n",
            "INFO:tensorflow:global_step/sec: 675.051\n",
            "INFO:tensorflow:loss = 0.46438497, step = 4600 (0.146 sec)\n",
            "INFO:tensorflow:global_step/sec: 669.827\n",
            "INFO:tensorflow:loss = 0.47014982, step = 4700 (0.150 sec)\n",
            "INFO:tensorflow:global_step/sec: 698.281\n",
            "INFO:tensorflow:loss = 0.46679384, step = 4800 (0.143 sec)\n",
            "INFO:tensorflow:global_step/sec: 694.304\n",
            "INFO:tensorflow:loss = 0.46384978, step = 4900 (0.143 sec)\n",
            "INFO:tensorflow:global_step/sec: 701.11\n",
            "INFO:tensorflow:loss = 0.45977268, step = 5000 (0.143 sec)\n",
            "INFO:tensorflow:global_step/sec: 694.955\n",
            "INFO:tensorflow:loss = 0.45382535, step = 5100 (0.144 sec)\n",
            "INFO:tensorflow:global_step/sec: 687.716\n",
            "INFO:tensorflow:loss = 0.44895014, step = 5200 (0.145 sec)\n",
            "INFO:tensorflow:global_step/sec: 669.171\n",
            "INFO:tensorflow:loss = 0.45658332, step = 5300 (0.152 sec)\n",
            "INFO:tensorflow:global_step/sec: 686.421\n",
            "INFO:tensorflow:loss = 0.44424498, step = 5400 (0.144 sec)\n",
            "INFO:tensorflow:global_step/sec: 694.482\n",
            "INFO:tensorflow:loss = 0.45929378, step = 5500 (0.144 sec)\n",
            "INFO:tensorflow:global_step/sec: 631.187\n",
            "INFO:tensorflow:loss = 0.4417517, step = 5600 (0.158 sec)\n",
            "INFO:tensorflow:global_step/sec: 688.088\n",
            "INFO:tensorflow:loss = 0.4436343, step = 5700 (0.146 sec)\n",
            "INFO:tensorflow:global_step/sec: 684.951\n",
            "INFO:tensorflow:loss = 0.45571548, step = 5800 (0.148 sec)\n",
            "INFO:tensorflow:global_step/sec: 615.02\n",
            "INFO:tensorflow:loss = 0.4417531, step = 5900 (0.160 sec)\n",
            "INFO:tensorflow:global_step/sec: 668.065\n",
            "INFO:tensorflow:loss = 0.4277143, step = 6000 (0.150 sec)\n",
            "INFO:tensorflow:global_step/sec: 670.152\n",
            "INFO:tensorflow:loss = 0.4292455, step = 6100 (0.149 sec)\n",
            "INFO:tensorflow:global_step/sec: 610.935\n",
            "INFO:tensorflow:loss = 0.4342305, step = 6200 (0.164 sec)\n",
            "INFO:tensorflow:global_step/sec: 663.686\n",
            "INFO:tensorflow:loss = 0.42332244, step = 6300 (0.152 sec)\n",
            "INFO:tensorflow:global_step/sec: 623.982\n",
            "INFO:tensorflow:loss = 0.42720902, step = 6400 (0.160 sec)\n",
            "INFO:tensorflow:global_step/sec: 667.954\n",
            "INFO:tensorflow:loss = 0.41664532, step = 6500 (0.148 sec)\n",
            "INFO:tensorflow:global_step/sec: 667.925\n",
            "INFO:tensorflow:loss = 0.41553915, step = 6600 (0.151 sec)\n",
            "INFO:tensorflow:global_step/sec: 650.633\n",
            "INFO:tensorflow:loss = 0.42340505, step = 6700 (0.154 sec)\n",
            "INFO:tensorflow:global_step/sec: 635.357\n",
            "INFO:tensorflow:loss = 0.40294182, step = 6800 (0.156 sec)\n",
            "INFO:tensorflow:global_step/sec: 611.382\n",
            "INFO:tensorflow:loss = 0.4097311, step = 6900 (0.163 sec)\n",
            "INFO:tensorflow:global_step/sec: 656.672\n",
            "INFO:tensorflow:loss = 0.40913087, step = 7000 (0.152 sec)\n",
            "INFO:tensorflow:global_step/sec: 638.184\n",
            "INFO:tensorflow:loss = 0.41461694, step = 7100 (0.159 sec)\n",
            "INFO:tensorflow:global_step/sec: 668.352\n",
            "INFO:tensorflow:loss = 0.4052276, step = 7200 (0.147 sec)\n",
            "INFO:tensorflow:global_step/sec: 675.986\n",
            "INFO:tensorflow:loss = 0.3823373, step = 7300 (0.148 sec)\n",
            "INFO:tensorflow:global_step/sec: 616.373\n",
            "INFO:tensorflow:loss = 0.40511578, step = 7400 (0.163 sec)\n",
            "INFO:tensorflow:global_step/sec: 647.447\n",
            "INFO:tensorflow:loss = 0.39898157, step = 7500 (0.156 sec)\n",
            "INFO:tensorflow:global_step/sec: 648.525\n",
            "INFO:tensorflow:loss = 0.4093023, step = 7600 (0.152 sec)\n",
            "INFO:tensorflow:global_step/sec: 676.164\n",
            "INFO:tensorflow:loss = 0.40023047, step = 7700 (0.150 sec)\n",
            "INFO:tensorflow:global_step/sec: 646.964\n",
            "INFO:tensorflow:loss = 0.39183474, step = 7800 (0.155 sec)\n",
            "INFO:tensorflow:global_step/sec: 598.528\n",
            "INFO:tensorflow:loss = 0.39835626, step = 7900 (0.165 sec)\n",
            "INFO:tensorflow:Calling checkpoint listeners before saving checkpoint 8000...\n",
            "INFO:tensorflow:Saving checkpoints for 8000 into /tmp/tmplabwupls/model.ckpt.\n",
            "INFO:tensorflow:Calling checkpoint listeners after saving checkpoint 8000...\n",
            "INFO:tensorflow:Loss for final step: 0.3950227.\n"
          ],
          "name": "stdout"
        },
        {
          "output_type": "execute_result",
          "data": {
            "text/plain": [
              "<tensorflow_estimator.python.estimator.canned.dnn.DNNClassifierV2 at 0x7f4d4fe88208>"
            ]
          },
          "metadata": {
            "tags": []
          },
          "execution_count": 12
        }
      ]
    },
    {
      "cell_type": "code",
      "metadata": {
        "id": "Kjlhj9Xp_A9e",
        "colab_type": "code",
        "outputId": "85ad3709-c81e-421c-8470-d3c9e587b909",
        "colab": {
          "base_uri": "https://localhost:8080/",
          "height": 373
        }
      },
      "source": [
        "eval_result = classifier.evaluate(\n",
        "    input_fn=lambda: input_fn(test, test_y, training=False))\n",
        "\n",
        "print('\\nTest set accuracy: {accuracy:0.3f}\\n'.format(**eval_result))"
      ],
      "execution_count": 13,
      "outputs": [
        {
          "output_type": "stream",
          "text": [
            "INFO:tensorflow:Calling model_fn.\n",
            "WARNING:tensorflow:Layer dnn is casting an input tensor from dtype float64 to the layer's dtype of float32, which is new behavior in TensorFlow 2.  The layer has dtype float32 because it's dtype defaults to floatx.\n",
            "\n",
            "If you intended to run this layer in float32, you can safely ignore this warning. If in doubt, this warning is likely only an issue if you are porting a TensorFlow 1.X model to TensorFlow 2.\n",
            "\n",
            "To change all layers to have dtype float64 by default, call `tf.keras.backend.set_floatx('float64')`. To change just this layer, pass dtype='float64' to the layer constructor. If you are the author of this layer, you can disable autocasting by passing autocast=False to the base Layer constructor.\n",
            "\n",
            "INFO:tensorflow:Done calling model_fn.\n",
            "INFO:tensorflow:Starting evaluation at 2020-06-08T16:10:53Z\n",
            "INFO:tensorflow:Graph was finalized.\n",
            "INFO:tensorflow:Restoring parameters from /tmp/tmplabwupls/model.ckpt-8000\n",
            "INFO:tensorflow:Running local_init_op.\n",
            "INFO:tensorflow:Done running local_init_op.\n",
            "INFO:tensorflow:Inference Time : 0.24211s\n",
            "INFO:tensorflow:Finished evaluation at 2020-06-08-16:10:53\n",
            "INFO:tensorflow:Saving dict for global step 8000: accuracy = 0.9, average_loss = 0.4562608, global_step = 8000, loss = 0.4562608\n",
            "INFO:tensorflow:Saving 'checkpoint_path' summary for global step 8000: /tmp/tmplabwupls/model.ckpt-8000\n",
            "\n",
            "Test set accuracy: 0.900\n",
            "\n"
          ],
          "name": "stdout"
        }
      ]
    },
    {
      "cell_type": "code",
      "metadata": {
        "id": "55aft8XvDbrk",
        "colab_type": "code",
        "colab": {
          "base_uri": "https://localhost:8080/",
          "height": 218
        },
        "outputId": "b5443fa7-beaa-41ca-aba0-eec8777ed392"
      },
      "source": [
        "def input_fn(features, batch_size=256):\n",
        "    # Convert the inputs to a Dataset without labels.\n",
        "    return tf.data.Dataset.from_tensor_slices(dict(features)).batch(batch_size)\n",
        "\n",
        "features = ['SepalLength', 'SepalWidth', 'PetalLength', 'PetalWidth']\n",
        "predict = {}\n",
        "\n",
        "print(\"Please type numeric values as prompted.\")\n",
        "for feature in features:\n",
        "  valid = True\n",
        "  while valid: \n",
        "    val = input(feature + \": \")\n",
        "    if not val.isdigit(): valid = False\n",
        "\n",
        "  predict[feature] = [float(val)]\n",
        "\n",
        "predictions = classifier.predict(input_fn=lambda: input_fn(predict))\n",
        "for pred_dict in predictions:\n",
        "    class_id = pred_dict['class_ids'][0]\n",
        "    probability = pred_dict['probabilities'][class_id]\n",
        "\n",
        "    print('Prediction is \"{}\" ({:.1f}%)'.format(\n",
        "        SPECIES[class_id], 100 * probability))\n"
      ],
      "execution_count": 14,
      "outputs": [
        {
          "output_type": "stream",
          "text": [
            "Please type numeric values as prompted.\n",
            "SepalLength: 4.2\n",
            "SepalWidth: 3.3\n",
            "PetalLength: 5.1\n",
            "PetalWidth: 3.7\n",
            "INFO:tensorflow:Calling model_fn.\n",
            "INFO:tensorflow:Done calling model_fn.\n",
            "INFO:tensorflow:Graph was finalized.\n",
            "INFO:tensorflow:Restoring parameters from /tmp/tmplabwupls/model.ckpt-8000\n",
            "INFO:tensorflow:Running local_init_op.\n",
            "INFO:tensorflow:Done running local_init_op.\n",
            "Prediction is \"Virginica\" (86.1%)\n"
          ],
          "name": "stdout"
        }
      ]
    },
    {
      "cell_type": "code",
      "metadata": {
        "id": "7QwrN2RU_LTF",
        "colab_type": "code",
        "colab": {}
      },
      "source": [
        "# Here is some example input and expected classes you can try above\n",
        "expected = ['Setosa', 'Versicolor', 'Virginica']\n",
        "predict_x = {\n",
        "    'SepalLength': [5.1, 5.9, 6.9],\n",
        "    'SepalWidth': [3.3, 3.0, 3.1],\n",
        "    'PetalLength': [1.7, 4.2, 5.4],\n",
        "    'PetalWidth': [0.5, 1.5, 2.1],\n",
        "}"
      ],
      "execution_count": 0,
      "outputs": []
    }
  ]
}